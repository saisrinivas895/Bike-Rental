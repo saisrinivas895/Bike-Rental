{
 "cells": [
  {
   "cell_type": "markdown",
   "metadata": {},
   "source": [
    "# load libraries"
   ]
  },
  {
   "cell_type": "code",
   "execution_count": 1,
   "metadata": {},
   "outputs": [],
   "source": [
    "import os\n",
    "import pandas as pd\n",
    "import numpy as np\n"
   ]
  },
  {
   "cell_type": "markdown",
   "metadata": {},
   "source": [
    "# set directory and import the data"
   ]
  },
  {
   "cell_type": "code",
   "execution_count": 2,
   "metadata": {},
   "outputs": [],
   "source": [
    "os.chdir(\"C:/Users/sai/Desktop/python code\")\n",
    "os.getcwd()\n",
    "data_frame = pd.read_csv(\"day.csv\", encoding = 'ISO - 8859 -1')"
   ]
  },
  {
   "cell_type": "code",
   "execution_count": 5,
   "metadata": {},
   "outputs": [
    {
     "data": {
      "text/plain": [
       "'C:\\\\Users\\\\sai\\\\Desktop\\\\python code'"
      ]
     },
     "execution_count": 5,
     "metadata": {},
     "output_type": "execute_result"
    }
   ],
   "source": [
    "os.getcwd()\n",
    "#data_frame"
   ]
  },
  {
   "cell_type": "markdown",
   "metadata": {},
   "source": [
    "# Checking the data types and converting into required ones."
   ]
  },
  {
   "cell_type": "code",
   "execution_count": 7,
   "metadata": {},
   "outputs": [
    {
     "name": "stdout",
     "output_type": "stream",
     "text": [
      "<class 'pandas.core.frame.DataFrame'>\n",
      "RangeIndex: 731 entries, 0 to 730\n",
      "Data columns (total 16 columns):\n",
      "instant       731 non-null float64\n",
      "dteday        731 non-null object\n",
      "season        731 non-null int64\n",
      "yr            731 non-null int64\n",
      "mnth          731 non-null int64\n",
      "holiday       731 non-null int64\n",
      "weekday       731 non-null int64\n",
      "workingday    731 non-null int64\n",
      "weathersit    731 non-null int64\n",
      "temp          731 non-null float64\n",
      "atemp         731 non-null float64\n",
      "hum           731 non-null float64\n",
      "windspeed     731 non-null float64\n",
      "casual        731 non-null float64\n",
      "registered    731 non-null float64\n",
      "cnt           731 non-null float64\n",
      "dtypes: float64(8), int64(7), object(1)\n",
      "memory usage: 91.5+ KB\n"
     ]
    }
   ],
   "source": [
    "data_frame.info()\n",
    "#conversion of datatypes into numerics\n",
    "\n",
    "for columns in ['instant','temp','atemp','hum','windspeed','casual','registered','cnt']:\n",
    "        data_frame[columns] = data_frame[columns].astype('float')         \n"
   ]
  },
  {
   "cell_type": "code",
   "execution_count": 10,
   "metadata": {},
   "outputs": [
    {
     "name": "stdout",
     "output_type": "stream",
     "text": [
      "<class 'pandas.core.frame.DataFrame'>\n",
      "RangeIndex: 731 entries, 0 to 730\n",
      "Data columns (total 16 columns):\n",
      "instant       731 non-null float64\n",
      "dteday        731 non-null object\n",
      "season        731 non-null object\n",
      "yr            731 non-null object\n",
      "mnth          731 non-null object\n",
      "holiday       731 non-null object\n",
      "weekday       731 non-null object\n",
      "workingday    731 non-null object\n",
      "weathersit    731 non-null object\n",
      "temp          731 non-null float64\n",
      "atemp         731 non-null float64\n",
      "hum           731 non-null float64\n",
      "windspeed     731 non-null float64\n",
      "casual        731 non-null float64\n",
      "registered    731 non-null float64\n",
      "cnt           731 non-null float64\n",
      "dtypes: float64(8), object(8)\n",
      "memory usage: 91.5+ KB\n"
     ]
    }
   ],
   "source": [
    "#conversion into categorical\n",
    "for columns in ['season','yr','mnth','holiday','weekday','workingday','weathersit']:\n",
    "        data_frame[columns] = data_frame[columns].astype('object')\n",
    "data_frame.info()"
   ]
  },
  {
   "cell_type": "code",
   "execution_count": 11,
   "metadata": {},
   "outputs": [],
   "source": [
    "from datetime import datetime\n",
    "data_frame['dteday'].apply(str)\n",
    "data_frame['dteday'] = pd.to_datetime(data_frame['dteday'])"
   ]
  },
  {
   "cell_type": "markdown",
   "metadata": {},
   "source": [
    "# Data preprocessing"
   ]
  },
  {
   "cell_type": "code",
   "execution_count": 12,
   "metadata": {},
   "outputs": [
    {
     "data": {
      "text/plain": [
       "instant       0\n",
       "dteday        0\n",
       "season        0\n",
       "yr            0\n",
       "mnth          0\n",
       "holiday       0\n",
       "weekday       0\n",
       "workingday    0\n",
       "weathersit    0\n",
       "temp          0\n",
       "atemp         0\n",
       "hum           0\n",
       "windspeed     0\n",
       "casual        0\n",
       "registered    0\n",
       "cnt           0\n",
       "dtype: int64"
      ]
     },
     "execution_count": 12,
     "metadata": {},
     "output_type": "execute_result"
    }
   ],
   "source": [
    "data_frame.isnull().sum()\n",
    "\n",
    "#there is no missing value found in dataset lets move to outlier analysis"
   ]
  },
  {
   "cell_type": "markdown",
   "metadata": {},
   "source": [
    "# outlier detection and removal"
   ]
  },
  {
   "cell_type": "code",
   "execution_count": 13,
   "metadata": {},
   "outputs": [
    {
     "name": "stdout",
     "output_type": "stream",
     "text": [
      "-364.0\n",
      "1096.0\n",
      "-0.14041600000000015\n",
      "1.1329160000000003\n",
      "-0.06829675000000018\n",
      "1.0147412500000002\n",
      "0.20468725\n",
      "1.0455212500000002\n",
      "-0.012431000000000025\n",
      "0.380585\n",
      "-885.0\n",
      "2323.0\n",
      "-840.0\n",
      "8018.0\n",
      "-788.125\n",
      "9500.875\n"
     ]
    }
   ],
   "source": [
    "num_var = [\"instant\",\"temp\",\"atemp\",\"hum\",\"windspeed\",\"casual\",\"registered\",\"cnt\"]\n",
    "\n",
    "for i in num_var:\n",
    "    q75 , q25 = np.percentile(data_frame.loc[:,i],[75,25])\n",
    "    iqr = q75  -  q25\n",
    "    \n",
    "    min = q25 - (iqr*1.5)\n",
    "    max = q75 + (iqr*1.5)\n",
    "    \n",
    "    print(min)\n",
    "    print(max)\n",
    "    \n",
    "    data_frame = data_frame.drop(data_frame[data_frame.loc[:,i] < min].index)\n",
    "    data_frame = data_frame.drop(data_frame[data_frame.loc[:,i] > max].index)\n"
   ]
  },
  {
   "cell_type": "code",
   "execution_count": 15,
   "metadata": {},
   "outputs": [
    {
     "data": {
      "text/plain": [
       "(676, 16)"
      ]
     },
     "execution_count": 15,
     "metadata": {},
     "output_type": "execute_result"
    }
   ],
   "source": [
    "#after removing the entire row in which the outlier is present data has been reduced to 676 obsevartions\n",
    "data_frame.shape"
   ]
  },
  {
   "cell_type": "markdown",
   "metadata": {},
   "source": [
    "# feature selection"
   ]
  },
  {
   "cell_type": "code",
   "execution_count": 16,
   "metadata": {},
   "outputs": [
    {
     "name": "stdout",
     "output_type": "stream",
     "text": [
      "<class 'pandas.core.frame.DataFrame'>\n",
      "Int64Index: 676 entries, 0 to 730\n",
      "Data columns (total 8 columns):\n",
      "instant       676 non-null float64\n",
      "temp          676 non-null float64\n",
      "atemp         676 non-null float64\n",
      "hum           676 non-null float64\n",
      "windspeed     676 non-null float64\n",
      "casual        676 non-null float64\n",
      "registered    676 non-null float64\n",
      "cnt           676 non-null float64\n",
      "dtypes: float64(8)\n",
      "memory usage: 47.5 KB\n"
     ]
    }
   ],
   "source": [
    "#correlation plot for detecting insignificant numerical variables which are highly correlated\n",
    "corr_plot = data_frame.loc[:,num_var]\n",
    "corr_plot.info()\n"
   ]
  },
  {
   "cell_type": "code",
   "execution_count": 18,
   "metadata": {},
   "outputs": [
    {
     "data": {
      "text/plain": [
       "<matplotlib.axes._subplots.AxesSubplot at 0x2305f094208>"
      ]
     },
     "execution_count": 18,
     "metadata": {},
     "output_type": "execute_result"
    },
    {
     "data": {
      "image/png": "[encoded data removed]",
      "text/plain": [
       "<matplotlib.figure.Figure at 0x2305b10b240>"
      ]
     },
     "metadata": {},
     "output_type": "display_data"
    }
   ],
   "source": [
    "import seaborn as sns\n",
    "get_ipython().magic('matplotlib inline')\n",
    "import matplotlib.pyplot as plt\n",
    "f, ax = plt.subplots(figsize=(7,5))\n",
    "\n",
    "corr = corr_plot.corr()\n",
    "sns.heatmap(corr, mask=np.zeros_like(corr, dtype=np.bool), cmap=sns.diverging_palette(220, 50, as_cmap=True),square=True, ax=ax)\n"
   ]
  },
  {
   "cell_type": "markdown",
   "metadata": {},
   "source": [
    "# dimension reduction"
   ]
  },
  {
   "cell_type": "code",
   "execution_count": 19,
   "metadata": {},
   "outputs": [],
   "source": [
    "#removing the highly correlated numerical variables because they cause multicollinearity\n",
    "#temp and temp are obeserved highly correlated,thus we drop one of them\n",
    "#casaul,registered and cnt are also positively correlated with each other and the sum of casual and registered forms cnt(observed from the data)\n",
    "\n",
    "data_frame = data_frame.drop([\"instant\",\"casual\",\"registered\",\"temp\",\"dteday\"],axis = 1)\n"
   ]
  },
  {
   "cell_type": "code",
   "execution_count": 20,
   "metadata": {},
   "outputs": [
    {
     "data": {
      "text/plain": [
       "array(['season', 'yr', 'mnth', 'holiday', 'weekday', 'workingday',\n",
       "       'weathersit', 'atemp', 'hum', 'windspeed', 'cnt'], dtype=object)"
      ]
     },
     "execution_count": 20,
     "metadata": {},
     "output_type": "execute_result"
    }
   ],
   "source": [
    "data_frame.columns.values"
   ]
  },
  {
   "cell_type": "markdown",
   "metadata": {},
   "source": [
    "# writing the processed data back to directory"
   ]
  },
  {
   "cell_type": "code",
   "execution_count": 21,
   "metadata": {},
   "outputs": [],
   "source": [
    "data_frame.to_csv(\"processed_data.csv\",sep=\"\\t\")"
   ]
  },
  {
   "cell_type": "markdown",
   "metadata": {},
   "source": [
    "# Model development"
   ]
  },
  {
   "cell_type": "code",
   "execution_count": 22,
   "metadata": {},
   "outputs": [],
   "source": [
    "#Regression Model\n",
    "#decision Tree\n",
    "from random import randrange, uniform\n",
    "import sklearn"
   ]
  },
  {
   "cell_type": "code",
   "execution_count": 25,
   "metadata": {},
   "outputs": [],
   "source": [
    "from sklearn.model_selection import train_test_split"
   ]
  },
  {
   "cell_type": "code",
   "execution_count": 26,
   "metadata": {},
   "outputs": [],
   "source": [
    "from sklearn.ensemble import RandomForestClassifier"
   ]
  },
  {
   "cell_type": "code",
   "execution_count": 30,
   "metadata": {},
   "outputs": [
    {
     "data": {
      "text/plain": [
       "(676, 11)"
      ]
     },
     "execution_count": 30,
     "metadata": {},
     "output_type": "execute_result"
    }
   ],
   "source": [
    "#data_frame\n",
    "data_frame.shape"
   ]
  },
  {
   "cell_type": "markdown",
   "metadata": {},
   "source": [
    "# Dividing the processed data into train and test"
   ]
  },
  {
   "cell_type": "code",
   "execution_count": 35,
   "metadata": {},
   "outputs": [],
   "source": [
    "x = data_frame.values[:, 0:10]\n",
    "y = data_frame.values[:,10]\n",
    "y = y.astype('int')\n",
    "\n",
    "x_train, x_test, y_train, y_test = train_test_split( x, y, test_size = 0.2)"
   ]
  },
  {
   "cell_type": "code",
   "execution_count": 40,
   "metadata": {},
   "outputs": [],
   "source": [
    "from sklearn import tree\n",
    "DT_model = tree.DecisionTreeClassifier(criterion='entropy').fit(x_train, y_train)"
   ]
  },
  {
   "cell_type": "markdown",
   "metadata": {},
   "source": [
    "# predictions on test data"
   ]
  },
  {
   "cell_type": "code",
   "execution_count": 45,
   "metadata": {},
   "outputs": [],
   "source": [
    "DT_Predictions = c50_model.predict(x_test)"
   ]
  },
  {
   "cell_type": "code",
   "execution_count": 47,
   "metadata": {},
   "outputs": [
    {
     "data": {
      "text/plain": [
       "array([6966, 7572,  920, 3389, 1834, 4381, 6591, 1000, 6864, 6169, 3422,\n",
       "       4725, 7444, 4460, 5786, 4780, 4381, 1685, 3331, 3820, 6855, 4338,\n",
       "       2913, 4968, 5409,  627, 3805, 3922, 3071, 7424, 5020, 7466, 4010,\n",
       "       4362, 4602,   22, 3544, 2132, 8156, 6772, 5323, 4186, 6227, 7446,\n",
       "       3784, 5729, 4570, 2417, 4067, 2802, 1526, 3926, 4186, 7421, 3372,\n",
       "       4186, 7415, 4381, 3659, 5087, 3761, 1834, 3767, 4656, 7534, 2914,\n",
       "       6312, 3272, 4294, 2743, 7446, 7264, 2947, 7058, 4576, 2425, 3243,\n",
       "       2425, 6824, 4629, 2368, 3958, 6779, 1263, 3333, 1817, 5130, 6133,\n",
       "       3784, 4308, 5713, 7697, 6192, 3855, 1917, 4608,  754, 2134, 5478,\n",
       "       6031, 1349, 1167, 4665, 5805,  985, 4332,  441, 5087, 4708, 1834,\n",
       "       7580, 3409, 6998, 4649, 5087, 3429, 6779, 4661, 7591, 4725, 4433,\n",
       "       5740, 3005, 4648, 7736, 3333, 2423, 5298, 4648, 5918, 5409, 6606,\n",
       "       5585, 4665, 5117, 6235])"
      ]
     },
     "execution_count": 47,
     "metadata": {},
     "output_type": "execute_result"
    }
   ],
   "source": [
    "DT_Predictions"
   ]
  },
  {
   "cell_type": "markdown",
   "metadata": {},
   "source": [
    "# defining a RMSLE coefficient for performance evaluation"
   ]
  },
  {
   "cell_type": "code",
   "execution_count": 48,
   "metadata": {},
   "outputs": [],
   "source": [
    "def rmsle(target, predicted):\n",
    "    log1 = np.nan_to_num(np.array([np.log(v+1) for v in target]))\n",
    "    log2 = np.nan_to_num(np.array([np.log(v + 1) for v in predicted]))\n",
    "    calc = (log1 - log2) **2\n",
    "    return np.sqrt(np.mean(calc))\n"
   ]
  },
  {
   "cell_type": "code",
   "execution_count": 49,
   "metadata": {},
   "outputs": [
    {
     "name": "stdout",
     "output_type": "stream",
     "text": [
      "RMSLE Value : 0.6164680709493867\n"
     ]
    }
   ],
   "source": [
    "print(\"RMSLE Value :\", rmsle(y_test,DT_Predictions))"
   ]
  },
  {
   "cell_type": "markdown",
   "metadata": {},
   "source": [
    "# RandomForest Model"
   ]
  },
  {
   "cell_type": "code",
   "execution_count": 50,
   "metadata": {},
   "outputs": [],
   "source": [
    "from sklearn.ensemble import RandomForestClassifier\n",
    "rf_model = RandomForestClassifier(n_estimators = 20).fit(x_train, y_train)"
   ]
  },
  {
   "cell_type": "code",
   "execution_count": 51,
   "metadata": {},
   "outputs": [],
   "source": [
    "rf_predictions = rf_model.predict(x_test)"
   ]
  },
  {
   "cell_type": "code",
   "execution_count": 52,
   "metadata": {},
   "outputs": [
    {
     "data": {
      "text/plain": [
       "array([1107, 3811, 2376, 1349, 4151, 2594, 5336, 1969, 3820, 6296,  441,\n",
       "       3613, 7444, 3351, 5976, 4086, 4109,  959, 2660, 3820, 4153, 3820,\n",
       "       7328, 4968, 5409,  627, 5786, 2402, 2703, 4677, 5084, 4563, 5191,\n",
       "       5918, 5115, 2633, 2913, 1011, 7720, 3141, 3940, 1685, 6786, 7264,\n",
       "       3974, 7525, 6544, 4833, 5323, 2832, 2077, 3926, 7466, 4773, 4717,\n",
       "       3907, 7286, 4109, 2633, 5375, 1107, 2121, 4790, 5336, 3959, 4046,\n",
       "       7466, 4911, 2132, 3392, 7446, 5191, 3204, 5634, 4576, 2496, 1589,\n",
       "       7466, 7436, 4833, 1985, 6569, 4094, 1204, 7338, 1817, 4334, 2368,\n",
       "       4150, 2425, 6904, 7333, 6073,  627, 3272, 4866, 1562, 6133, 5267,\n",
       "       4492,  822, 3194, 3285, 5805, 2252, 7013,  683, 6824, 4660, 3204,\n",
       "       5115, 4844, 3577, 4123, 2028, 5805, 1000, 3544, 3523, 3190, 6133,\n",
       "       4677, 1360, 7580, 5119, 2298, 1510, 4595, 5713, 5918, 6460, 5478,\n",
       "       5729, 3784, 4120, 1865])"
      ]
     },
     "execution_count": 52,
     "metadata": {},
     "output_type": "execute_result"
    }
   ],
   "source": [
    "rf_predictions"
   ]
  },
  {
   "cell_type": "markdown",
   "metadata": {},
   "source": [
    "# Error evaluation using the above defined rmsle method"
   ]
  },
  {
   "cell_type": "code",
   "execution_count": 53,
   "metadata": {},
   "outputs": [
    {
     "name": "stdout",
     "output_type": "stream",
     "text": [
      "RMSLE Value:  0.48906977323660406\n"
     ]
    }
   ],
   "source": [
    "print(\"RMSLE Value: \", rmsle(y_test,rf_predictions))"
   ]
  },
  {
   "cell_type": "code",
   "execution_count": null,
   "metadata": {},
   "outputs": [],
   "source": []
  }
 ],
 "metadata": {
  "kernelspec": {
   "display_name": "Python 3",
   "language": "python",
   "name": "python3"
  },
  "language_info": {
   "codemirror_mode": {
    "name": "ipython",
    "version": 3
   },
   "file_extension": ".py",
   "mimetype": "text/x-python",
   "name": "python",
   "nbconvert_exporter": "python",
   "pygments_lexer": "ipython3",
   "version": "3.6.4"
  }
 },
 "nbformat": 4,
 "nbformat_minor": 2
}
